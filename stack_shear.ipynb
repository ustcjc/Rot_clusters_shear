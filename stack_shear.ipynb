{
 "cells": [
  {
   "cell_type": "code",
   "execution_count": 1,
   "id": "60be7f6d-149a-4468-9cf9-c3071face894",
   "metadata": {
    "tags": []
   },
   "outputs": [],
   "source": [
    "from astropy.cosmology import Planck18 as cosmo\n",
    "from astropy.io import fits\n",
    "import matplotlib.pyplot as plt\n",
    "import numpy as np\n",
    "import pandas as pd\n",
    "from astropy.table import Table\n",
    "from astropy import constants as c\n",
    "import astropy.units as u\n",
    "import multiprocessing\n",
    "import time"
   ]
  },
  {
   "cell_type": "code",
   "execution_count": 2,
   "id": "054becf4-b63f-4bed-a395-329a73b1f40d",
   "metadata": {
    "tags": []
   },
   "outputs": [],
   "source": [
    "h=cosmo.H0.value/100\n",
    "fac = c.c**2 / (4 * np.pi * c.G)\n",
    "fac = fac.to(u.Msun * u.pc**(-2)*u.Mpc).value\n",
    "comoving = True\n",
    "\n",
    "\n",
    "Mpc_step = 0.3\n",
    "binsnum = 8 # one side\n",
    "Mpc_range = Mpc_step * (binsnum-1/2)  # center +- Mpc_range\n",
    "delta = 1.5 * Mpc_range # pre-selection\n",
    "\n",
    "\n",
    "xbins = np.linspace(-Mpc_range, Mpc_range, 2 * binsnum)\n",
    "ybins = np.linspace(-Mpc_range, Mpc_range, 2 * binsnum)"
   ]
  },
  {
   "cell_type": "code",
   "execution_count": 3,
   "id": "f9018ff9-1a34-48ab-aa17-ab1a34e49002",
   "metadata": {},
   "outputs": [
    {
     "data": {
      "text/plain": [
       "\"\\n# SDSS data\\nsourcedata = Table.from_pandas(pd.read_csv('/data/cjia/cluster/sourcewmap3',delim_whitespace=True,names=['ra','dec','e1','e2','res','er1','er2','zs','ds','spa']))\\nra = sourcedata['ra']\\ndec = sourcedata['dec']\\ne1 = sourcedata['e1']\\ne2 = sourcedata['e2']\\nw = 1 / (1 + sourcedata['er1']**2 + sourcedata['er2']**2)\\n\""
      ]
     },
     "execution_count": 3,
     "metadata": {},
     "output_type": "execute_result"
    }
   ],
   "source": [
    "\n",
    "# UNIONS data\n",
    "data = fits.open('/data/cjia/cluster/unions_shapepipe_2022_v1.3.fits')[1].data\n",
    "ra = data['RA']\n",
    "dec = data['Dec']\n",
    "e1 = -data['e1']\n",
    "e2 = data['e2']\n",
    "w = data['w']\n",
    "\n",
    "\n",
    "'''\n",
    "# DECaLs data\n",
    "data = fits.open('/data/cjia/cluster/decals_shape_lensfit.fits')[1].data\n",
    "ra = data['ra']\n",
    "dec = data['dec']\n",
    "e1 = data['e1']\n",
    "e2 = -data['e2']\n",
    "w = data['wt']\n",
    "z = data['z']\n",
    "'''\n",
    "\n",
    "'''\n",
    "# SDSS data\n",
    "sourcedata = Table.from_pandas(pd.read_csv('/data/cjia/cluster/sourcewmap3',delim_whitespace=True,names=['ra','dec','e1','e2','res','er1','er2','zs','ds','spa']))\n",
    "ra = sourcedata['ra']\n",
    "dec = sourcedata['dec']\n",
    "e1 = sourcedata['e1']\n",
    "e2 = sourcedata['e2']\n",
    "w = 1 / (1 + sourcedata['er1']**2 + sourcedata['er2']**2)\n",
    "'''"
   ]
  },
  {
   "cell_type": "code",
   "execution_count": 4,
   "id": "9d23508c-eca9-48b9-b8e8-35618d19754c",
   "metadata": {
    "tags": []
   },
   "outputs": [],
   "source": [
    "def pre_select(rac, decc, delta):\n",
    "    premask = (ra < rac + delta / np.cos(decc / 180 * np.pi)) * (ra > rac - delta / np.cos(decc / 180 * np.pi)) * (dec < decc + delta) * (dec > decc - delta)\n",
    "    rasub = ra[premask]\n",
    "    decsub = dec[premask]\n",
    "    e1sub = e1[premask]\n",
    "    e2sub = e2[premask]\n",
    "    wsub = w[premask]\n",
    "    return [rasub, decsub, e1sub, e2sub, wsub]"
   ]
  },
  {
   "cell_type": "code",
   "execution_count": 5,
   "id": "ced1dddc-b2ae-4b02-b834-7c0b79296ce2",
   "metadata": {},
   "outputs": [],
   "source": [
    "def extract_grid_member(ra, dec, e1, e2, w, rac, decc, z, phi):   # extract_grid_member\n",
    "    dx = (ra - rac) * np.cos(decc / 180 * np.pi)  # degree\n",
    "    dy = dec - decc                               # degree\n",
    "    \n",
    "    scale_d2Mpc = cosmo.angular_diameter_distance(z).value * h / 180 * np.pi\n",
    "    scale_Mpc2d = 1 / scale_d2Mpc\n",
    "    \n",
    "    d_range = Mpc_range * scale_Mpc2d\n",
    "    d_step = Mpc_step * scale_Mpc2d\n",
    "    \n",
    "    grid_list = []\n",
    "    \n",
    "    for i in range(len(xbins)):\n",
    "        for j in range(len(ybins)):\n",
    "            x1 = xbins[i] - Mpc_step\n",
    "            x2 = xbins[i] + Mpc_step\n",
    "            y1 = ybins[j] - Mpc_step\n",
    "            y2 = ybins[j] + Mpc_step\n",
    "            \n",
    "            if (270 < phi <= 360) or (0 <= phi < 90):\n",
    "                mask = (dy < np.tan(phi / 180 * np.pi) * dx - x1 / np.cos(phi / 180 * np.pi))\n",
    "                mask = mask * (dy > np.tan(phi / 180 * np.pi) * dx - x2 / np.cos(phi / 180 * np.pi))\n",
    "                mask = mask * (dx > -np.tan(phi / 180 * np.pi) * dy + y1 / np.cos(phi / 180 * np.pi))\n",
    "                mask = mask * (dx < -np.tan(phi / 180 * np.pi) * dy + y2 / np.cos(phi / 180 * np.pi))\n",
    "            elif (90 < phi < 270):\n",
    "                mask = (dy > np.tan(phi / 180 * np.pi) * dx - x1 / np.cos(phi / 180 * np.pi))\n",
    "                mask = mask * (dy < np.tan(phi / 180 * np.pi) * dx - x2 / np.cos(phi / 180 * np.pi))\n",
    "                mask = mask * (dx < -np.tan(phi / 180 * np.pi) * dy + y1 / np.cos(phi / 180 * np.pi))\n",
    "                mask = mask * (dx > -np.tan(phi / 180 * np.pi) * dy + y2 / np.cos(phi / 180 * np.pi))\n",
    "            elif phi == 90:\n",
    "                mask = (dx > x1) * (dx < x2) * (dy > y1) * (dy < y2)\n",
    "            else:\n",
    "                mask = (dx < -x1) * (dx > -x2) * (dy < -y1) * (dy > -y2)\n",
    "            \n",
    "            e1_grid = e1[mask]\n",
    "            e2_grid = e2[mask]\n",
    "            w_grid = w[mask]\n",
    "            grid_list.append([xbins[i], ybins[j], e1_grid, e2_grid, w_grid, phi])\n",
    "    \n",
    "    return grid_list\n",
    "# return [] for each grid\n",
    "\n",
    "\n",
    "def get_grid_info():\n",
    "    dxflat, dyflat, e1flat, e2flat, wflat, phiflat = [], [], [], [], [], []\n",
    "    for k in range(len(zlist)):\n",
    "        rac = raclist[k]\n",
    "        decc = decclist[k]\n",
    "        z_l = zlist[k]\n",
    "        phi = philist[k]\n",
    "        preselect = pre_select(rac, decc, delta)\n",
    "        rasub = preselect[0]\n",
    "        decsub = preselect[1]\n",
    "        e1sub = preselect[2]\n",
    "        e2sub = preselect[3]\n",
    "        wsub = preselect[4]\n",
    "        \n",
    "        grid_list = extract_grid_member(rasub, decsub, e1sub, e2sub, wsub, rac, decc, z_l, phi)\n",
    "        \n",
    "        for i in range(len(grid_list)):\n",
    "            for j in range(len(grid_list[i][2])): # length of e1_grid\n",
    "                dxflat.append(grid_list[i][0])\n",
    "                dyflat.append(grid_list[i][1])\n",
    "                e1flat.append(grid_list[i][2][j])\n",
    "                e2flat.append(grid_list[i][3][j])\n",
    "                wflat.append(grid_list[i][4][j])\n",
    "                phiflat.append(grid_list[i][5])\n",
    "    \n",
    "    return [dxflat, dyflat, e1flat, e2flat, wflat, phiflat]"
   ]
  },
  {
   "cell_type": "code",
   "execution_count": 6,
   "id": "a800b6f1-8e15-48ee-97dc-86ca0ab1f607",
   "metadata": {
    "tags": []
   },
   "outputs": [],
   "source": [
    "def grid_shear_stack(dx, dy):\n",
    "    mask = (dx == DX) * (dy == DY)\n",
    "    e1grid = E1[mask]\n",
    "    e2grid = E2[mask]\n",
    "    wgrid = W[mask]\n",
    "    phigrid = PHI[mask]\n",
    "    num = len(e1grid)\n",
    "    \n",
    "    thetagrid = - 2 * phigrid\n",
    "    e1rot = np.cos(thetagrid / 180 * np.pi) * e1grid - np.sin(thetagrid / 180 * np.pi) * e2grid\n",
    "    e2rot = np.sin(thetagrid / 180 * np.pi) * e1grid + np.cos(thetagrid / 180 * np.pi) * e2grid\n",
    "    \n",
    "    g1 = np.sum(e1rot * wgrid) / np.sum(wgrid)\n",
    "    g2 = np.sum(e2rot * wgrid) / np.sum(wgrid)\n",
    "    \n",
    "    a = 0   # ?\n",
    "    sigmasq = 1/wgrid - a**2\n",
    "    gerr = 1/2 * np.sum(sigmasq * wgrid**2) / np.sum(wgrid)**2\n",
    "    \n",
    "    return [dx, dy, g1, g2, gerr, num]   ############ gerr means sigma**2"
   ]
  },
  {
   "cell_type": "code",
   "execution_count": 13,
   "id": "dbb6ac70-15d2-452f-a06e-32fe3e95cbff",
   "metadata": {
    "tags": []
   },
   "outputs": [],
   "source": [
    "# input\n",
    "#mode = 'bcg_major'\n",
    "#mode = 'rotation'\n",
    "mode = 'satellite_major'\n",
    "input_data = np.loadtxt(f'input_{mode}', unpack=True)\n",
    "raclist = input_data[0]\n",
    "decclist = input_data[1]\n",
    "zlist = input_data[2]\n",
    "philist = input_data[3]\n",
    "\n",
    "DATA = get_grid_info()\n",
    "DX = np.array(DATA[0])\n",
    "DY = np.array(DATA[1])\n",
    "E1 = np.array(DATA[2])\n",
    "E2 = np.array(DATA[3])\n",
    "W = np.array(DATA[4])\n",
    "PHI = np.array(DATA[5])\n",
    "\n",
    "result = []\n",
    "for i in range(len(xbins)):\n",
    "    calculation = multiprocessing.Pool(processes=len(ybins))\n",
    "    for j in range(len(ybins)):\n",
    "        calculation.apply_async(grid_shear_stack, (xbins[i], ybins[j],), callback=result.append)\n",
    "            \n",
    "    calculation.close()\n",
    "    calculation.join()"
   ]
  },
  {
   "cell_type": "code",
   "execution_count": 14,
   "id": "fe91152c-ab28-4690-9c70-4cd85d5341cc",
   "metadata": {
    "tags": []
   },
   "outputs": [],
   "source": [
    "f = open(f'stack_{mode}.txt', 'w+')\n",
    "print('# dx dy g1 g2 gerr**2 num', file=f)\n",
    "for k in range(len(result)):\n",
    "    row = result[k]\n",
    "    print(row[0], row[1], row[2], row[3], row[4], row[5], file=f)\n",
    "f.close()"
   ]
  },
  {
   "cell_type": "code",
   "execution_count": 15,
   "id": "53b7901f-70df-4c48-9dc4-ed41a8b8af8f",
   "metadata": {
    "tags": []
   },
   "outputs": [
    {
     "data": {
      "image/png": "[encoded data removed]",
      "text/plain": [
       "<Figure size 700x700 with 1 Axes>"
      ]
     },
     "metadata": {},
     "output_type": "display_data"
    },
    {
     "data": {
      "text/plain": [
       "<Figure size 640x480 with 0 Axes>"
      ]
     },
     "metadata": {},
     "output_type": "display_data"
    }
   ],
   "source": [
    "import matplotlib.pyplot as plt\n",
    "import numpy as np\n",
    "\n",
    "\n",
    "data = np.loadtxt(f'stack_{mode}.txt', unpack=True)\n",
    "dx = data[0]\n",
    "dy = data[1]\n",
    "g1 = data[2]\n",
    "g2 = data[3]\n",
    "\n",
    "\n",
    "\n",
    "\n",
    "def get_xy(g1, g2):\n",
    "    x = 1\n",
    "    if g1 == 0:\n",
    "        if g2 > 0:\n",
    "            y = 1\n",
    "        elif g2 < 0:\n",
    "            y = -1\n",
    "        else:\n",
    "            return [0, 0]\n",
    "    elif g1 > 0:\n",
    "        y = np.tan(np.arctan(g2/g1) / 2)\n",
    "    else:\n",
    "        y = - 1 / np.tan(np.arctan(g2/g1) / 2)\n",
    "    \n",
    "    scale = np.sqrt(g1**2 + g2**2) / np.sqrt(x**2 + y**2)\n",
    "    x = x * scale\n",
    "    y = y * scale\n",
    "    \n",
    "    return [x, y]\n",
    "\n",
    "\n",
    "\n",
    "plt.figure(figsize=(7, 7))\n",
    "\n",
    "for k in range(len(dx)):\n",
    "    xy = get_xy(g1[k], g2[k])\n",
    "    #plotscale = 1.3\n",
    "    plotscale = 30\n",
    "    x = xy[0] * plotscale\n",
    "    y = xy[1] * plotscale\n",
    "    plotx = [dx[k] - x, dx[k] + x]\n",
    "    ploty = [dy[k] - y, dy[k] + y]\n",
    "    plt.plot(plotx, ploty, c='tomato', linewidth=2)\n",
    "\n",
    "\n",
    "plt.scatter(0, 0, s=80)\n",
    "plt.xlabel('dx [Mpc]')\n",
    "plt.ylabel('dy [Mpc]')\n",
    "plt.savefig(f'stack_{mode}.png')\n",
    "plt.show()\n",
    "plt.clf()\n"
   ]
  },
  {
   "cell_type": "code",
   "execution_count": null,
   "id": "425aebf7-db41-42ea-b532-0df5990dcc6d",
   "metadata": {},
   "outputs": [],
   "source": []
  },
  {
   "cell_type": "code",
   "execution_count": null,
   "id": "2cbabdaf-1df6-4684-9fea-392040aa1535",
   "metadata": {},
   "outputs": [],
   "source": []
  },
  {
   "cell_type": "code",
   "execution_count": null,
   "id": "7c99e001-7a9e-4f48-b549-c00b0fe9a245",
   "metadata": {},
   "outputs": [],
   "source": []
  },
  {
   "cell_type": "code",
   "execution_count": null,
   "id": "a383c207-751c-46ca-a8ec-463459fcbf9b",
   "metadata": {},
   "outputs": [],
   "source": []
  },
  {
   "cell_type": "code",
   "execution_count": null,
   "id": "e9ee87e7-b6d2-436e-8d70-3a69c46efc13",
   "metadata": {},
   "outputs": [],
   "source": []
  },
  {
   "cell_type": "code",
   "execution_count": null,
   "id": "0d9cb6af-1adc-4957-a2c1-268a0345484e",
   "metadata": {},
   "outputs": [],
   "source": []
  },
  {
   "cell_type": "code",
   "execution_count": null,
   "id": "114a51d6-66d9-4ee3-b24b-41dcb30260bd",
   "metadata": {},
   "outputs": [],
   "source": []
  },
  {
   "cell_type": "code",
   "execution_count": null,
   "id": "f1103fc0-ed47-4593-bf1b-3a3f85bcccbc",
   "metadata": {},
   "outputs": [],
   "source": []
  },
  {
   "cell_type": "code",
   "execution_count": null,
   "id": "afd88f5d-b040-423e-ae93-ece594f55f0e",
   "metadata": {},
   "outputs": [],
   "source": []
  }
 ],
 "metadata": {
  "kernelspec": {
   "display_name": "Python 3 (ipykernel)",
   "language": "python",
   "name": "python3"
  },
  "language_info": {
   "codemirror_mode": {
    "name": "ipython",
    "version": 3
   },
   "file_extension": ".py",
   "mimetype": "text/x-python",
   "name": "python",
   "nbconvert_exporter": "python",
   "pygments_lexer": "ipython3",
   "version": "3.11.9"
  }
 },
 "nbformat": 4,
 "nbformat_minor": 5
}
